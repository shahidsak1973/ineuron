{
 "cells": [
  {
   "cell_type": "markdown",
   "id": "ee2a4729",
   "metadata": {},
   "source": [
    "<h1> 1.Why are functions advantageous to have in your programs?"
   ]
  },
  {
   "cell_type": "markdown",
   "id": "696aae48",
   "metadata": {},
   "source": [
    "<h3>solution</h3>\n",
    "functions increases the readability of the program\n",
    "<br>\n",
    "function increases the reusability of the program"
   ]
  },
  {
   "cell_type": "markdown",
   "id": "e5cb3636",
   "metadata": {},
   "source": [
    "<h1> 2.When does the code in a function run: when it's specified or when it's called?"
   ]
  },
  {
   "cell_type": "markdown",
   "id": "eada39dc",
   "metadata": {},
   "source": [
    "<h3> solution</h3>\n",
    "<br>\n",
    "when it is called"
   ]
  },
  {
   "cell_type": "markdown",
   "id": "fec068de",
   "metadata": {},
   "source": [
    "<h1>3.What statement creates a function?"
   ]
  },
  {
   "cell_type": "markdown",
   "id": "17b301b1",
   "metadata": {},
   "source": [
    "<h3>solution</h3>\n",
    "<br>\n",
    "def keyword"
   ]
  },
  {
   "cell_type": "markdown",
   "id": "29b30bd1",
   "metadata": {},
   "source": [
    "<h1>4.What is the difference between a function and a function call?"
   ]
  },
  {
   "cell_type": "markdown",
   "id": "605ceb70",
   "metadata": {},
   "source": [
    "<h3>solution</h3>\n",
    "<br>function is defined using the <b>\"def\"</b> keyword and all the statements are written inside that particular block.\n",
    "<br>\n",
    "     function call is made using the function name, once the function call is made the statements inside the function will executes"
   ]
  },
  {
   "cell_type": "markdown",
   "id": "01bfcadd",
   "metadata": {},
   "source": [
    "<h1>5.How many global scopes are there in a Python program? How many local scopes?"
   ]
  },
  {
   "cell_type": "markdown",
   "id": "822d2a9b",
   "metadata": {},
   "source": [
    "<h3>solution</h3>\n",
    " <br>\n",
    " There will be <b>1 </b> global scopes in the python program\n",
    " <br>\n",
    " There will be <b> many </b> local scopes in the python program"
   ]
  },
  {
   "cell_type": "markdown",
   "id": "9c3ff95a",
   "metadata": {},
   "source": [
    "<h1>6. What happens to variables in a local scope when the function call returns?"
   ]
  },
  {
   "cell_type": "markdown",
   "id": "eaf62cda",
   "metadata": {},
   "source": [
    "<h3>solution</h3>\n",
    "<br>\n",
    "The local variables <b>lost its value</b> once the function call is made."
   ]
  },
  {
   "cell_type": "markdown",
   "id": "f49a7c0f",
   "metadata": {},
   "source": [
    "<h1>7. What is the concept of a return value? Is it possible to have a return value in an expression?"
   ]
  },
  {
   "cell_type": "markdown",
   "id": "e4c51b0e",
   "metadata": {},
   "source": [
    "Each time when the function is called it should return a value which specifies the output of that particular function.\n",
    "yes, it is possible to have the return value in the form of expression."
   ]
  },
  {
   "cell_type": "markdown",
   "id": "7d424223",
   "metadata": {},
   "source": [
    "<h1>8.If a function does not have a return statement, what is the return value of a call to that function?"
   ]
  },
  {
   "cell_type": "markdown",
   "id": "02cd7d0f",
   "metadata": {},
   "source": [
    "If the function does not have the return value, then it is assigned to None"
   ]
  },
  {
   "cell_type": "markdown",
   "id": "04720dde",
   "metadata": {},
   "source": [
    "<h1>9.How do you make a function variable refer to the global variable?"
   ]
  },
  {
   "cell_type": "markdown",
   "id": "19135c35",
   "metadata": {},
   "source": [
    "Using the Global keyword we make a function variable refer to the global variable"
   ]
  },
  {
   "cell_type": "markdown",
   "id": "9f50cace",
   "metadata": {},
   "source": [
    "<h1>10. What is the data type of None?"
   ]
  },
  {
   "cell_type": "markdown",
   "id": "08aa427f",
   "metadata": {},
   "source": [
    "<h3>solution</h3>\n",
    "<br>\n",
    "The data type of None is NoneType"
   ]
  },
  {
   "cell_type": "markdown",
   "id": "589a69eb",
   "metadata": {},
   "source": [
    "<h1>11. What does the sentence import areallyourpetsnamederic do?"
   ]
  },
  {
   "cell_type": "markdown",
   "id": "28f4e41a",
   "metadata": {},
   "source": [
    "<h3>solution</h3>\n",
    "it will import all the methods and functions of the areallyourpetsnamederic to the current program\n",
    "<br>\n",
    "all the code from the areallyourpetsnamederic module is made available to the current program"
   ]
  },
  {
   "cell_type": "markdown",
   "id": "cd78fb12",
   "metadata": {},
   "source": [
    "<h1>12. If you had a bacon() feature in a spam module, what would you call it after importing spam?"
   ]
  },
  {
   "cell_type": "markdown",
   "id": "e1bfd581",
   "metadata": {},
   "source": [
    "we can call it using the spam.bacon()"
   ]
  },
  {
   "cell_type": "markdown",
   "id": "7d2fae13",
   "metadata": {},
   "source": [
    "<h1>13.What can you do to save a programme from crashing if it encounters an error?"
   ]
  },
  {
   "cell_type": "markdown",
   "id": "51dbc276",
   "metadata": {},
   "source": [
    "<h3>solution</h3>\n",
    "<br>\n",
    "It's better to use exceptional handling to save the program from crashing"
   ]
  },
  {
   "cell_type": "markdown",
   "id": "4bfac696",
   "metadata": {},
   "source": [
    "<h1>14.What is the purpose of the try clause? What is the purpose of the except clause?"
   ]
  },
  {
   "cell_type": "markdown",
   "id": "98cf5b84",
   "metadata": {},
   "source": [
    "<br><h3>solution</h3>\n",
    "The try clause is used to test a block of code for errors.\n",
    "<br>\n",
    "The except block is used to handle the error."
   ]
  }
 ],
 "metadata": {
  "kernelspec": {
   "display_name": "Python 3 (ipykernel)",
   "language": "python",
   "name": "python3"
  },
  "language_info": {
   "codemirror_mode": {
    "name": "ipython",
    "version": 3
   },
   "file_extension": ".py",
   "mimetype": "text/x-python",
   "name": "python",
   "nbconvert_exporter": "python",
   "pygments_lexer": "ipython3",
   "version": "3.9.12"
  }
 },
 "nbformat": 4,
 "nbformat_minor": 5
}
