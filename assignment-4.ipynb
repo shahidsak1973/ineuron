{
 "cells": [
  {
   "cell_type": "markdown",
   "id": "cdb0a17f",
   "metadata": {},
   "source": [
    "<h1>1. What exactly is []?"
   ]
  },
  {
   "cell_type": "markdown",
   "id": "7b580397",
   "metadata": {},
   "source": [
    "<h3>solution</h3>\n",
    "    <br>\n",
    " <b>\"[]\" </b>is used to declare the list in python"
   ]
  },
  {
   "cell_type": "markdown",
   "id": "e7bf8eb5",
   "metadata": {},
   "source": [
    "<h1>2. In a list of values stored in a variable called spam, how would you assign the value 'hello' as the third value? (Assume [2, 4, 6, 8, 10] are in spam.)"
   ]
  },
  {
   "cell_type": "markdown",
   "id": "d3f80920",
   "metadata": {},
   "source": [
    "<h3> solution</h3>\n",
    "spam[2]='hello'"
   ]
  },
  {
   "cell_type": "markdown",
   "id": "db6ee4c1",
   "metadata": {},
   "source": [
    "Let's pretend the spam includes the list ['a', 'b', 'c', 'd'] for the next three queries."
   ]
  },
  {
   "cell_type": "markdown",
   "id": "3a949316",
   "metadata": {},
   "source": [
    "<h1>3. What is the value of spam[int(int('3' * 2) / 11)]?"
   ]
  },
  {
   "cell_type": "markdown",
   "id": "0cb501bd",
   "metadata": {},
   "source": [
    "<h3>solution</h3>\n",
    "d"
   ]
  },
  {
   "cell_type": "markdown",
   "id": "738eb39e",
   "metadata": {},
   "source": [
    "<h1>4. What is the value of spam[-1]?"
   ]
  },
  {
   "cell_type": "markdown",
   "id": "e19e3a4e",
   "metadata": {},
   "source": [
    "<h3>solution</h3>\n",
    "d"
   ]
  },
  {
   "cell_type": "markdown",
   "id": "872a100a",
   "metadata": {},
   "source": [
    "<h1>5. What is the value of spam[:2]?"
   ]
  },
  {
   "cell_type": "markdown",
   "id": "b4a69361",
   "metadata": {},
   "source": [
    "<h3>solution</h3>\n",
    "a,b"
   ]
  },
  {
   "cell_type": "markdown",
   "id": "edd2cf3b",
   "metadata": {},
   "source": [
    "Let's pretend bacon has the list [3.14, 'cat,' 11, 'cat,' True] for the next three questions."
   ]
  },
  {
   "cell_type": "markdown",
   "id": "b7247f42",
   "metadata": {},
   "source": [
    "<h1>6. What is the value of bacon.index('cat')?"
   ]
  },
  {
   "cell_type": "markdown",
   "id": "7000c2c5",
   "metadata": {},
   "source": [
    "<h3>solution</h3>\n",
    "1"
   ]
  },
  {
   "cell_type": "markdown",
   "id": "0626b056",
   "metadata": {},
   "source": [
    "<h1>7. How does bacon.append(99) change the look of the list value in bacon?"
   ]
  },
  {
   "cell_type": "markdown",
   "id": "01992a3a",
   "metadata": {},
   "source": [
    "<h3> solution</h3>\n",
    "[3.14, 'cat,' 11, 'cat,' True',99] "
   ]
  },
  {
   "cell_type": "markdown",
   "id": "e99de325",
   "metadata": {},
   "source": [
    "<h1>8. How does bacon.remove('cat') change the look of the list in bacon?"
   ]
  },
  {
   "cell_type": "markdown",
   "id": "05138c03",
   "metadata": {},
   "source": [
    "<h3>solution</h3>\n",
    "[3.14, 11,' True',99]"
   ]
  },
  {
   "cell_type": "markdown",
   "id": "3cd64c75",
   "metadata": {},
   "source": [
    "<h1>9. What are the list concatenation and list replication operators?"
   ]
  },
  {
   "cell_type": "markdown",
   "id": "1ffa7794",
   "metadata": {},
   "source": [
    "<h3>solution</h3>\n",
    "<br>\n",
    "list concatenation operator:- \" + \"\n",
    "<br>\n",
    "list replication operator:- \" * \""
   ]
  },
  {
   "cell_type": "markdown",
   "id": "6433d2e5",
   "metadata": {},
   "source": [
    "<h1>10. What is difference between the list methods append() and insert()?"
   ]
  },
  {
   "cell_type": "markdown",
   "id": "703cce63",
   "metadata": {},
   "source": [
    "<h3>solution</h3>\n",
    "<br>append method adds the element at the last position\n",
    "<br> insert method adds the element at the specified position"
   ]
  },
  {
   "cell_type": "markdown",
   "id": "f13ea0ca",
   "metadata": {},
   "source": [
    "<h1>11. What are the two methods for removing items from a list?"
   ]
  },
  {
   "cell_type": "markdown",
   "id": "a54093b7",
   "metadata": {},
   "source": [
    "<h3>solution</h3>\n",
    "<br>The two method of removing elements from the list is \n",
    "<br>\n",
    "1) remove:- here we can remove the items from the list using the specified element\n",
    "<br>\n",
    "2) pop:- here we can remove the elements of the list using the index"
   ]
  },
  {
   "cell_type": "markdown",
   "id": "385298af",
   "metadata": {},
   "source": [
    "<h1>12.Describe how list values and string values are identical."
   ]
  },
  {
   "cell_type": "markdown",
   "id": "9b3d92cb",
   "metadata": {},
   "source": [
    "<h3>solution</h3>\n",
    "<br>Both the lists and string are sequence type\n",
    "<br> both the lists and string are accessed by index"
   ]
  },
  {
   "cell_type": "markdown",
   "id": "25566715",
   "metadata": {},
   "source": [
    "<h1>13. What's the difference between tuples and lists?"
   ]
  },
  {
   "cell_type": "markdown",
   "id": "efbc03b0",
   "metadata": {},
   "source": [
    "<h3>solution</h3>\n",
    "<br>\n",
    "<b>Lists:-</b>\n",
    "list are mutable\n",
    "<br>\n",
    "we can perform the operations like insertiona and deletion\n",
    "<br>\n",
    "<b>tuple:-</b>\n",
    "<br>\n",
    "tuple is immutable\n",
    "<br>\n",
    "we can only access the elements, and cannot perform the opeartions like insertion and deletion"
   ]
  },
  {
   "cell_type": "markdown",
   "id": "5ccd4a61",
   "metadata": {},
   "source": [
    "<h1>14. How do you type a tuple value that only contains the integer 42?"
   ]
  },
  {
   "cell_type": "markdown",
   "id": "b443e79b",
   "metadata": {},
   "source": [
    "<h3>solution</h3>\n",
    "x=tuple((42,))"
   ]
  },
  {
   "cell_type": "markdown",
   "id": "27179b61",
   "metadata": {},
   "source": [
    "<h1>15. How do you get a list value's tuple form? How do you get a tuple value's list form?"
   ]
  },
  {
   "cell_type": "markdown",
   "id": "bb5103d5",
   "metadata": {},
   "source": [
    "<h3>solution</h3>\n",
    "x=list[1,2,3,4]\n",
    "<br>\n",
    "y=tuple(x)\n",
    "<br>\n",
    "i=tuple(1,2)\n",
    "<br>\n",
    "j=list(i)"
   ]
  },
  {
   "cell_type": "markdown",
   "id": "e33a11dc",
   "metadata": {},
   "source": [
    "<h1>16. Variables that \"contain\" list values are not necessarily lists themselves. Instead, what do they contain?"
   ]
  },
  {
   "cell_type": "markdown",
   "id": "428bd820",
   "metadata": {},
   "source": [
    "<h3>solution</h3>\n",
    "<br>\n",
    "They contain the references of that particular list"
   ]
  },
  {
   "cell_type": "markdown",
   "id": "e4889b70",
   "metadata": {},
   "source": [
    "<h1>17. How do you distinguish between copy.copy() and copy.deepcopy()?"
   ]
  },
  {
   "cell_type": "markdown",
   "id": "9f5859ad",
   "metadata": {},
   "source": [
    "<h3>solution</h3>\n",
    "<b>copy.deepcopy()</b>\n",
    "<br>\n",
    "In this case any changes made to a copy of the object will not reflect in the original object. \n",
    "<br>\n",
    "<b>copy.copy()</b>\n",
    "<br>\n",
    "In this case any changes made to a copy of an object will reflect in the original object."
   ]
  }
 ],
 "metadata": {
  "kernelspec": {
   "display_name": "Python 3 (ipykernel)",
   "language": "python",
   "name": "python3"
  },
  "language_info": {
   "codemirror_mode": {
    "name": "ipython",
    "version": 3
   },
   "file_extension": ".py",
   "mimetype": "text/x-python",
   "name": "python",
   "nbconvert_exporter": "python",
   "pygments_lexer": "ipython3",
   "version": "3.9.12"
  }
 },
 "nbformat": 4,
 "nbformat_minor": 5
}
