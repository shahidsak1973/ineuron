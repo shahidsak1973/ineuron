{
 "cells": [
  {
   "cell_type": "markdown",
   "id": "1aea0695",
   "metadata": {},
   "source": [
    "## question-1\n",
    "In the below elements which of them are values or an expression? eg:- values can be integer or string and expressions will be mathematical operators.\n",
    "* \n",
    "'hello'\n",
    "-87.8\n",
    "- \n",
    "/ \n",
    "+\t\n",
    "6 \n"
   ]
  },
  {
   "cell_type": "markdown",
   "id": "72838bf4",
   "metadata": {},
   "source": [
    " ## solution:-\n",
    "<br>\n",
    "integer:- 6,87.8\n",
    "<br>\n",
    "String:- hello\n",
    "<br>\n",
    "expressions:- /"
   ]
  },
  {
   "cell_type": "markdown",
   "id": "66539b48",
   "metadata": {},
   "source": [
    "## question-2\n",
    "What is the difference between string and variable?"
   ]
  },
  {
   "cell_type": "markdown",
   "id": "3da1cab6",
   "metadata": {},
   "source": [
    "## Solution:-\n",
    "string is a data type in python and the varible is defined as the name assigned to the memory location, which is used to access the variable for later purpose.\n",
    "<b>Ex:- name=\"Shahid\"</b>\n",
    "<br>\n",
    "     here \"name\" is the variable and the value \"shahid\" of string data type is assigned to the  variable \"name\""
   ]
  },
  {
   "cell_type": "markdown",
   "id": "14536b74",
   "metadata": {},
   "source": [
    "## question-3\n",
    "Describe three different data types."
   ]
  },
  {
   "cell_type": "markdown",
   "id": "432ed602",
   "metadata": {},
   "source": [
    "## solution\n",
    "<br>\n",
    "There are different data types in python\n",
    "<br>\n",
    " Numeric data types are int, float, complex.\n",
    " <br>\n",
    " String data types are str.\n",
    " <br>\n",
    " Sequence types are list, tuple, range."
   ]
  },
  {
   "cell_type": "markdown",
   "id": "a7fee5e8",
   "metadata": {},
   "source": [
    "## question-4\n",
    "What is an expression made up of? What do all expressions do?"
   ]
  },
  {
   "cell_type": "markdown",
   "id": "6967b124",
   "metadata": {},
   "source": [
    "## solution\n",
    "An expression is constructed using variables and operators, which furthur is evaluated to produce the single value"
   ]
  },
  {
   "cell_type": "markdown",
   "id": "d44e6f41",
   "metadata": {},
   "source": [
    "## question-5\n",
    "This assignment statements, like spam = 10. What is the difference between an expression and a statement?"
   ]
  },
  {
   "cell_type": "markdown",
   "id": "d3ea1df5",
   "metadata": {},
   "source": [
    "## solution\n",
    "<br>\n",
    "expression will do some evaluations and returns the value\n",
    "<br>\n",
    " where as statement just executes but does not return any value\n",
    " <br>\n",
    " example:-\n",
    " <br>\n",
    " expression:- x=10+20+30\n",
    " <br>\n",
    " statement:- for i in range(0,10)"
   ]
  },
  {
   "cell_type": "markdown",
   "id": "0d06423f",
   "metadata": {},
   "source": [
    "## question-6\n",
    "After running the following code, what does the variable bacon contain?\n",
    "<br>\n",
    "bacon = 22\n",
    "<br>\n",
    "bacon + 1"
   ]
  },
  {
   "cell_type": "markdown",
   "id": "f30429d7",
   "metadata": {},
   "source": [
    "## solution\n",
    "The value still remains same since we are not assigning to tha variable \"bacon\" again"
   ]
  },
  {
   "cell_type": "code",
   "execution_count": 7,
   "id": "c47dadae",
   "metadata": {},
   "outputs": [
    {
     "name": "stdout",
     "output_type": "stream",
     "text": [
      "22\n"
     ]
    }
   ],
   "source": [
    "## execution\n",
    "bacon=22\n",
    "bacon+1\n",
    "print(bacon)"
   ]
  },
  {
   "cell_type": "markdown",
   "id": "58b074ef",
   "metadata": {},
   "source": [
    "## question -7"
   ]
  },
  {
   "cell_type": "markdown",
   "id": "24047ea6",
   "metadata": {},
   "source": [
    "7. What should the values of the following two terms be?\n",
    "'spam' + 'spamspam'\n",
    "'spam' * 3\n"
   ]
  },
  {
   "cell_type": "markdown",
   "id": "49fa9a64",
   "metadata": {},
   "source": [
    "## solution"
   ]
  },
  {
   "cell_type": "code",
   "execution_count": 10,
   "id": "de32efce",
   "metadata": {},
   "outputs": [
    {
     "data": {
      "text/plain": [
       "'spamspamspam'"
      ]
     },
     "execution_count": 10,
     "metadata": {},
     "output_type": "execute_result"
    }
   ],
   "source": [
    "'spam' + 'spamspam'"
   ]
  },
  {
   "cell_type": "code",
   "execution_count": 9,
   "id": "9a7e0ffa",
   "metadata": {},
   "outputs": [
    {
     "data": {
      "text/plain": [
       "'spamspamspam'"
      ]
     },
     "execution_count": 9,
     "metadata": {},
     "output_type": "execute_result"
    }
   ],
   "source": [
    "'spam' * 3"
   ]
  },
  {
   "cell_type": "markdown",
   "id": "73c54233",
   "metadata": {},
   "source": [
    " ## question-8\n",
    " Why is eggs a valid variable name while 100 is invalid?"
   ]
  },
  {
   "cell_type": "markdown",
   "id": "8c2105f5",
   "metadata": {},
   "source": [
    "## solution\n",
    "eggs is a valid variable name because it does not contain any special characters and does not start with the numerical and 100 is invalid because it starts with the numerical."
   ]
  },
  {
   "cell_type": "markdown",
   "id": "712299a3",
   "metadata": {},
   "source": [
    "## question -9\n",
    "What three functions can be used to get the integer, floating-point number, or string version of a value?"
   ]
  },
  {
   "cell_type": "markdown",
   "id": "9d6290cc",
   "metadata": {},
   "source": [
    "## solution\n",
    "<br>\n",
    "int() is used to get the integer version of a value\n",
    "<br> \n",
    " float() is used to get the floating version of a value\n",
    " <br>\n",
    " str() is used to get the str version of a value"
   ]
  },
  {
   "cell_type": "markdown",
   "id": "b419264e",
   "metadata": {},
   "source": [
    "## question -10\n",
    ". Why does this expression cause an error? How can you fix it?\n",
    "'I have eaten ' + 99 + ' burritos.'"
   ]
  },
  {
   "cell_type": "markdown",
   "id": "136bbf74",
   "metadata": {},
   "source": [
    "## solution"
   ]
  },
  {
   "cell_type": "code",
   "execution_count": 12,
   "id": "69f598c7",
   "metadata": {},
   "outputs": [
    {
     "data": {
      "text/plain": [
       "'I have eaten 99 burritos.'"
      ]
     },
     "execution_count": 12,
     "metadata": {},
     "output_type": "execute_result"
    }
   ],
   "source": [
    "'I have eaten ' + '99' + ' burritos.'"
   ]
  }
 ],
 "metadata": {
  "kernelspec": {
   "display_name": "Python 3 (ipykernel)",
   "language": "python",
   "name": "python3"
  },
  "language_info": {
   "codemirror_mode": {
    "name": "ipython",
    "version": 3
   },
   "file_extension": ".py",
   "mimetype": "text/x-python",
   "name": "python",
   "nbconvert_exporter": "python",
   "pygments_lexer": "ipython3",
   "version": "3.9.12"
  }
 },
 "nbformat": 4,
 "nbformat_minor": 5
}
