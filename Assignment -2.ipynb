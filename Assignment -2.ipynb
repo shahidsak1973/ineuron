{
 "cells": [
  {
   "cell_type": "markdown",
   "id": "9bb06820",
   "metadata": {},
   "source": [
    "## Question-1\n",
    "1.What are the two values of the Boolean data type? How do you write them?"
   ]
  },
  {
   "cell_type": "markdown",
   "id": "654a1bb5",
   "metadata": {},
   "source": [
    "## solution"
   ]
  },
  {
   "cell_type": "markdown",
   "id": "ffce9f02",
   "metadata": {},
   "source": [
    "There are two values for the Boolean data type, They are\n",
    "1) True\n",
    "2) False\n",
    "<br>\n",
    "They can be represented as\n",
    "<br>\n",
    "X=True\n",
    "<br>\n",
    "Y=False"
   ]
  },
  {
   "cell_type": "markdown",
   "id": "1e1bd970",
   "metadata": {},
   "source": [
    "## question -2"
   ]
  },
  {
   "cell_type": "markdown",
   "id": "2577848e",
   "metadata": {},
   "source": [
    "What are the three different types of Boolean operators?"
   ]
  },
  {
   "cell_type": "markdown",
   "id": "730fa76e",
   "metadata": {},
   "source": [
    "## solution"
   ]
  },
  {
   "cell_type": "markdown",
   "id": "fae8cf16",
   "metadata": {},
   "source": [
    "The three different types of boolean operators are\n",
    "1) AND\n",
    "2) OR\n",
    "3) NOT"
   ]
  },
  {
   "cell_type": "markdown",
   "id": "68210a2e",
   "metadata": {},
   "source": [
    "## question -3"
   ]
  },
  {
   "cell_type": "markdown",
   "id": "2f30f40b",
   "metadata": {},
   "source": [
    "Make a list of each Boolean operator's truth tables (i.e. every possible combination of Boolean values for the operator and what it evaluate )."
   ]
  },
  {
   "cell_type": "markdown",
   "id": "3fcaac92",
   "metadata": {},
   "source": [
    "AND \n",
    "<br>\n",
    "A       B       Result\n",
    "<br>\n",
    "0       0        0\n",
    "<br>\n",
    "0       1        0\n",
    "<br>\n",
    "1       0        0\n",
    "<br>\n",
    "1       1        1"
   ]
  },
  {
   "cell_type": "markdown",
   "id": "a40e4d64",
   "metadata": {},
   "source": [
    "OR\n",
    "<br>\n",
    "A       B       Result\n",
    "<br>\n",
    "0       0        0\n",
    "<br>\n",
    "0       1        1\n",
    "<br>\n",
    "1       0        1\n",
    "<br>\n",
    "1       1        1"
   ]
  },
  {
   "cell_type": "markdown",
   "id": "3c976288",
   "metadata": {},
   "source": [
    "NOT\n",
    "<br>\n",
    "A   Result\n",
    "<br>\n",
    "1    0\n",
    "<br>\n",
    "0    1"
   ]
  },
  {
   "cell_type": "markdown",
   "id": "5a2ba8a5",
   "metadata": {},
   "source": [
    "## question -4"
   ]
  },
  {
   "cell_type": "markdown",
   "id": "ff526f4a",
   "metadata": {},
   "source": [
    "What are the values of the following expressions?\n",
    "<br>\n",
    "(5 > 4) and (3 == 5)\n",
    "<br>\n",
    "not (5 > 4)\n",
    "<br>\n",
    "(5 > 4) or (3 == 5)\n",
    "<br>\n",
    "not ((5 > 4) or (3 == 5))\n",
    "<br>\n",
    "(True and True) and (True == False)\n",
    "<br>\n",
    "(not False) or (not True)\n"
   ]
  },
  {
   "cell_type": "markdown",
   "id": "baaec3d4",
   "metadata": {},
   "source": [
    "## solution"
   ]
  },
  {
   "cell_type": "markdown",
   "id": "6bdfa35b",
   "metadata": {},
   "source": [
    "<br>\n",
    "(5 > 4) and (3 == 5) ------> False\n",
    "<br>\n",
    "not (5 > 4)          ------> False\n",
    "<br>\n",
    "(5 > 4) or (3 == 5) -------> True\n",
    "<br>\n",
    "not ((5 > 4) or (3 == 5))---> False\n",
    "<br>\n",
    "(True and True) and (True == False)-----> False\n",
    "<br>\n",
    "not False) or (not True) -------> True"
   ]
  },
  {
   "cell_type": "markdown",
   "id": "c9d0a729",
   "metadata": {},
   "source": [
    "## question - 5"
   ]
  },
  {
   "cell_type": "markdown",
   "id": "5d0f46c5",
   "metadata": {},
   "source": [
    "What are the six comparison operators?"
   ]
  },
  {
   "cell_type": "markdown",
   "id": "9484df7d",
   "metadata": {},
   "source": [
    "## solution"
   ]
  },
  {
   "cell_type": "markdown",
   "id": "45821a17",
   "metadata": {},
   "source": [
    "<br>\n",
    "1) >\n",
    "<br>\n",
    "2) <\n",
    "<br>\n",
    "3) ==\n",
    "<br>\n",
    "4) !=\n",
    "<br>\n",
    "5) >=\n",
    "<br>\n",
    "6) <="
   ]
  },
  {
   "cell_type": "markdown",
   "id": "f6fe1577",
   "metadata": {},
   "source": [
    "## question - 6"
   ]
  },
  {
   "cell_type": "markdown",
   "id": "b147704a",
   "metadata": {},
   "source": [
    "How do you tell the difference between the equal to and assignment operators?Describe a condition and when you would use one."
   ]
  },
  {
   "cell_type": "markdown",
   "id": "aa0c8fb5",
   "metadata": {},
   "source": [
    "## solution"
   ]
  },
  {
   "cell_type": "markdown",
   "id": "74412aa0",
   "metadata": {},
   "source": [
    "equal to operator is used for <b>comparsion</b> \n",
    "<br>\n",
    "assignment operator is used for <b> assignment of values to the variables</b>\n",
    "<br>\n",
    "for example :-\n",
    "<br>\n",
    "<b>if(5==6)</b>            ## return false\n",
    "<br>\n",
    "<b>x=5</b>                 ## assigns value 5 to the variable x"
   ]
  },
  {
   "cell_type": "markdown",
   "id": "da5ad921",
   "metadata": {},
   "source": [
    "## question -7"
   ]
  },
  {
   "cell_type": "markdown",
   "id": "adfcaf5f",
   "metadata": {},
   "source": [
    "Identify the three blocks in this code:\n",
    "<br>\n",
    "spam = 0\n",
    "<br>\n",
    "if spam == 10:\n",
    "<br>\n",
    "print('eggs')\n",
    "<br>\n",
    "if spam > 5:\n",
    "<br>\n",
    "print('bacon')\n",
    "<br>\n",
    "else:\n",
    "<br>\n",
    "print('ham')\n",
    "<br>\n",
    "print('spam')\n",
    "<br>\n",
    "print('spam')\n"
   ]
  },
  {
   "cell_type": "markdown",
   "id": "6fe0a814",
   "metadata": {},
   "source": [
    "## solution"
   ]
  },
  {
   "cell_type": "markdown",
   "id": "5aea9e34",
   "metadata": {},
   "source": [
    "## block -1\n",
    "if spam == 10:\n",
    "<br>\n",
    "print('eggs')\n",
    "<br>\n",
    "## block-2\n",
    "if spam > 5:\n",
    "<br>\n",
    "print('bacon')\n",
    "<br>\n",
    "## block -3\n",
    "else:\n",
    "<br>\n",
    "print('ham')\n",
    "<br>\n",
    "print('spam')\n",
    "<br>\n",
    "print('spam')"
   ]
  },
  {
   "cell_type": "markdown",
   "id": "c81b7324",
   "metadata": {},
   "source": [
    "## question - 8"
   ]
  },
  {
   "cell_type": "markdown",
   "id": "c8898060",
   "metadata": {},
   "source": [
    "Write code that prints Hello if 1 is stored in spam, prints Howdy if 2 is stored in spam, and prints Greetings! if anything else is stored in spam."
   ]
  },
  {
   "cell_type": "markdown",
   "id": "afe4c316",
   "metadata": {},
   "source": [
    "## solution"
   ]
  },
  {
   "cell_type": "code",
   "execution_count": null,
   "id": "f46ae7eb",
   "metadata": {},
   "outputs": [],
   "source": [
    "spam=int(input())\n",
    "if spam==1:\n",
    "    print(\"Hello\")\n",
    "elif spam==2:\n",
    "    print(\"Howdy\")\n",
    "else:\n",
    "    print(\"if anything else is stored in spam.\")"
   ]
  },
  {
   "cell_type": "markdown",
   "id": "728b7ca5",
   "metadata": {},
   "source": [
    "## question - 9"
   ]
  },
  {
   "cell_type": "markdown",
   "id": "a2605fe8",
   "metadata": {},
   "source": [
    "If your programme is stuck in an endless loop, what keys you’ll press?"
   ]
  },
  {
   "cell_type": "markdown",
   "id": "3c0e9346",
   "metadata": {},
   "source": [
    "## solution"
   ]
  },
  {
   "cell_type": "markdown",
   "id": "73ee217f",
   "metadata": {},
   "source": [
    "CTRL+C\n",
    "<br>\n",
    "  or\n",
    " <br>\n",
    "Interrupting the kernal"
   ]
  },
  {
   "cell_type": "markdown",
   "id": "fed17ac3",
   "metadata": {},
   "source": [
    "## question-10"
   ]
  },
  {
   "cell_type": "markdown",
   "id": "bb7648f6",
   "metadata": {},
   "source": [
    "How can you tell the difference between break and continue?"
   ]
  },
  {
   "cell_type": "markdown",
   "id": "56ccbee5",
   "metadata": {},
   "source": [
    "<br>\n",
    "<b>break</b> is used when we wish to come out from the block/loop when the condition is satisfied\n",
    "<br>\n",
    "<b>break</b> terminates the execution of loop\n",
    "<br>\n",
    "<b>break</b> can be used with if, else and switch statements and loops\n",
    "<br>\n",
    "<b>continue</b> is used to stop the currrent iteration and starts the next iteration\n",
    "<br>\n",
    "<b>continue</b> is used only with the loops"
   ]
  },
  {
   "cell_type": "markdown",
   "id": "2798909e",
   "metadata": {},
   "source": [
    "## question - 11"
   ]
  },
  {
   "cell_type": "markdown",
   "id": "b8515a09",
   "metadata": {},
   "source": [
    "In a for loop, what is the difference between range(10), range(0, 10), and range(0, 10, 1)?"
   ]
  },
  {
   "cell_type": "markdown",
   "id": "70a12028",
   "metadata": {},
   "source": [
    "## solution"
   ]
  },
  {
   "cell_type": "code",
   "execution_count": 8,
   "id": "0f27ac36",
   "metadata": {},
   "outputs": [
    {
     "name": "stdout",
     "output_type": "stream",
     "text": [
      "0\n",
      "1\n",
      "2\n",
      "3\n",
      "4\n",
      "5\n",
      "6\n",
      "7\n",
      "8\n",
      "9\n"
     ]
    }
   ],
   "source": [
    "for i in range(10):\n",
    "    print(i)\n",
    "## The syntax of range is given as range(Start,end,step)\n",
    "## it will prints the values from 0 to 10(exclusive)\n",
    "## even if we dont specify the start by default it will start from 0 and step is taken as 1"
   ]
  },
  {
   "cell_type": "code",
   "execution_count": 7,
   "id": "61aee4f3",
   "metadata": {},
   "outputs": [
    {
     "name": "stdout",
     "output_type": "stream",
     "text": [
      "0\n",
      "1\n",
      "2\n",
      "3\n",
      "4\n",
      "5\n",
      "6\n",
      "7\n",
      "8\n",
      "9\n"
     ]
    }
   ],
   "source": [
    "for i in range(0,10):\n",
    "    print(i)\n",
    "## The syntax of range is given as range(Start,end,step)\n",
    "## it will prints the values from 0 to 10(exclusive)\n",
    "## Here we mention the start value and step by default it is taken as 1"
   ]
  },
  {
   "cell_type": "code",
   "execution_count": 6,
   "id": "65588899",
   "metadata": {},
   "outputs": [
    {
     "name": "stdout",
     "output_type": "stream",
     "text": [
      "0\n",
      "1\n",
      "2\n",
      "3\n",
      "4\n",
      "5\n",
      "6\n",
      "7\n",
      "8\n",
      "9\n"
     ]
    }
   ],
   "source": [
    "for i in range(0,10,1):\n",
    "    print(i)\n",
    "## it will prints the values from 0 to 10(exclusive)"
   ]
  },
  {
   "cell_type": "markdown",
   "id": "cb920f42",
   "metadata": {},
   "source": [
    "## question - 12"
   ]
  },
  {
   "cell_type": "markdown",
   "id": "cf164be5",
   "metadata": {},
   "source": [
    "Write a short program that prints the numbers 1 to 10 using a for loop. Then write an equivalent program that prints the numbers 1 to 10 using a while loop."
   ]
  },
  {
   "cell_type": "markdown",
   "id": "76f43da7",
   "metadata": {},
   "source": [
    "## solution"
   ]
  },
  {
   "cell_type": "code",
   "execution_count": 4,
   "id": "68c73e58",
   "metadata": {},
   "outputs": [
    {
     "name": "stdout",
     "output_type": "stream",
     "text": [
      "1\n",
      "2\n",
      "3\n",
      "4\n",
      "5\n",
      "6\n",
      "7\n",
      "8\n",
      "9\n",
      "10\n"
     ]
    }
   ],
   "source": [
    "## using while loop\n",
    "i=1\n",
    "while(i<=10):\n",
    "    print(i)\n",
    "    i+=1"
   ]
  },
  {
   "cell_type": "code",
   "execution_count": 5,
   "id": "2e5458ad",
   "metadata": {},
   "outputs": [
    {
     "name": "stdout",
     "output_type": "stream",
     "text": [
      "1\n",
      "2\n",
      "3\n",
      "4\n",
      "5\n",
      "6\n",
      "7\n",
      "8\n",
      "9\n",
      "10\n"
     ]
    }
   ],
   "source": [
    "## using for loop\n",
    "for i in range(1,11):\n",
    "    print(i)"
   ]
  },
  {
   "cell_type": "markdown",
   "id": "b93031ce",
   "metadata": {},
   "source": [
    "## question - 13"
   ]
  },
  {
   "cell_type": "markdown",
   "id": "141ff504",
   "metadata": {},
   "source": [
    "If you had a function named bacon() inside a module named spam, how would you call it after importing spam?"
   ]
  },
  {
   "cell_type": "markdown",
   "id": "7d6a2211",
   "metadata": {},
   "source": [
    "## solution"
   ]
  },
  {
   "cell_type": "markdown",
   "id": "d6e42590",
   "metadata": {},
   "source": [
    "we can call using <b>spam.bacon()</b>"
   ]
  }
 ],
 "metadata": {
  "kernelspec": {
   "display_name": "Python 3 (ipykernel)",
   "language": "python",
   "name": "python3"
  },
  "language_info": {
   "codemirror_mode": {
    "name": "ipython",
    "version": 3
   },
   "file_extension": ".py",
   "mimetype": "text/x-python",
   "name": "python",
   "nbconvert_exporter": "python",
   "pygments_lexer": "ipython3",
   "version": "3.9.12"
  }
 },
 "nbformat": 4,
 "nbformat_minor": 5
}
